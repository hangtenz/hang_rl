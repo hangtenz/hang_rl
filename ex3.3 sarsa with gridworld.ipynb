{
 "cells": [
  {
   "cell_type": "markdown",
   "metadata": {},
   "source": [
    "# SARSA with Gridworld\n",
    "\n",
    "## Goal:\n",
    "\n",
    "- Adapt from Monte Carlo\n",
    "- SARSA"
   ]
  },
  {
   "cell_type": "code",
   "execution_count": 343,
   "metadata": {},
   "outputs": [],
   "source": [
    "import gym\n",
    "import chula_rl as rl\n",
    "import os\n",
    "import numpy as np\n",
    "import random\n",
    "from collections import deque, defaultdict\n",
    "import pandas as pd\n",
    "import matplotlib.pyplot as plt"
   ]
  },
  {
   "cell_type": "markdown",
   "metadata": {},
   "source": [
    "## Step 1: Make Env"
   ]
  },
  {
   "cell_type": "code",
   "execution_count": 344,
   "metadata": {},
   "outputs": [
    {
     "data": {
      "image/png": "[encoded data removed]",
      "text/plain": [
       "<Figure size 288x144 with 3 Axes>"
      ]
     },
     "metadata": {
      "needs_background": "light"
     },
     "output_type": "display_data"
    }
   ],
   "source": [
    "def make_env():\n",
    "    env = rl.env.Gridworld(shape=(4, 3),\n",
    "                           start=(2, 0),\n",
    "                           goal=(1, 2),\n",
    "                           move_reward=-1)\n",
    "    env = rl.env.wrapper.ClipEpisodeLength(env, n_max_length=20)\n",
    "    env = rl.env.wrapper.EpisodeSummary(env)\n",
    "    return env\n",
    "\n",
    "\n",
    "env = make_env()\n",
    "env.reset()\n",
    "env.render()"
   ]
  },
  {
   "cell_type": "markdown",
   "metadata": {},
   "source": [
    "## Step 2: Define policy\n",
    "\n",
    "SARSA with policy iteration (with only one-step policy evaluation) using moving average."
   ]
  },
  {
   "cell_type": "code",
   "execution_count": 345,
   "metadata": {},
   "outputs": [],
   "source": [
    "class SARSAPolicy(rl.policy.BasePolicy):\n",
    "\n",
    "    def __init__(self, lr, discount_factor, observation_space, n_action):\n",
    "        self.lr = lr\n",
    "        self.discount_factor = discount_factor\n",
    "        self.observation_space = observation_space\n",
    "        self.n_action = n_action\n",
    "\n",
    "        self.q = np.zeros(list(self.observation_space.high) +\n",
    "                          [n_action], dtype=np.float64)  # (s0, s1, a)\n",
    "        #print(list(self.observation_space.high) +[n_action])\n",
    "\n",
    "    def step(self, state):\n",
    "        # code here ...\n",
    "        #print(self.q[tuple(state)])\n",
    "        #if(tuple(state) == (2,0)): print(self.q[tuple(state)])\n",
    "        return np.argmax(self.q[tuple(state)])\n",
    "\n",
    "    def optimize_step(self, data):\n",
    "        # code here ...\n",
    "        s = data['s']\n",
    "        a = data['a']\n",
    "        r = data['r']\n",
    "        ss = data['ss']\n",
    "        aa = data['aa']\n",
    "        s0 = (s[0],s[1],a)\n",
    "        s1 = (ss[0],ss[1],aa)\n",
    "        #print('hi')\n",
    "        #print(s0,r,s1)\n",
    "        #print(self.q[s0] + self.discount_factor*(r+self.q[s1]))\n",
    "        self.q[s0] = self.q[s0] + self.discount_factor*(r+self.q[s1])\n",
    "        #print(self.q)"
   ]
  },
  {
   "cell_type": "markdown",
   "metadata": {},
   "source": [
    "## Step 3: Define an explorer\n",
    "\n",
    "Create `OneStepExplorer` to use with SARSA. You could look at the `EpisodeExplorer` for inspirations.\n",
    "\n",
    "The `OneStepExplorer` should run a given policy only for ONE step then return what it sees.\n",
    "\n",
    "It should return something like this from its `step` method: \n",
    "\n",
    "```\n",
    "{\n",
    "    's': current state,\n",
    "    'a': action,\n",
    "    'r': reward,\n",
    "    'ss': next state,\n",
    "    'aa': next action,\n",
    "    'done': is done?,\n",
    "}\n",
    "```"
   ]
  },
  {
   "cell_type": "code",
   "execution_count": 346,
   "metadata": {},
   "outputs": [],
   "source": [
    "class OneStepExplorer(rl.explorer.BaseExplorer):\n",
    "    \"\"\"explore the environment only one-step then returns the experience immediately\"\"\"\n",
    "    def __init__(self, n_max_interaction, env):\n",
    "        super().__init__(env)\n",
    "        self.n_max_interaction = n_max_interaction\n",
    "        self.last_s = self.env.reset()\n",
    "        self.n_interaction = 0\n",
    "        self.n_ep = 0\n",
    "        self.collect_reward = []\n",
    "        self.stat = []\n",
    "        \n",
    "    def step(self, policy):\n",
    "        if self.n_interaction >= self.n_max_interaction:\n",
    "            #rint(self.last_s)\n",
    "            self.n_interaction = 0\n",
    "            self.collect_reward.clear()\n",
    "            raise rl.exception.InteractionExceeded()\n",
    "        self.n_interaction+=1\n",
    "        self.n_ep+=1\n",
    "        # code here\n",
    "        s = np.array(self.last_s)\n",
    "        action = policy.step(self.last_s)\n",
    "        a = action\n",
    "        ss, r, done ,infox = self.env.step(action)\n",
    "        self.last_s = ss\n",
    "        aa = policy.step(ss)\n",
    "        info = {'s':s,'a':a,'r':r,'ss':ss,'aa':aa,'done':done}\n",
    "        #print(temp)\n",
    "        # data = the experience of the last step\n",
    "        self.collect_reward.append(r)\n",
    "        self.stat.append((self.n_interaction,np.sum(self.collect_reward)))\n",
    "        if(done):\n",
    "            self.collect_reward.clear()\n",
    "            self.env.reset()\n",
    "            return info\n",
    "        return info\n",
    "    def get_reward(self):\n",
    "        return np.array(self.stat)"
   ]
  },
  {
   "cell_type": "markdown",
   "metadata": {},
   "source": [
    "Test the explorer:"
   ]
  },
  {
   "cell_type": "code",
   "execution_count": 347,
   "metadata": {},
   "outputs": [
    {
     "data": {
      "text/plain": [
       "{'s': array([2, 0]),\n",
       " 'a': 3,\n",
       " 'r': -1,\n",
       " 'ss': array([2, 1]),\n",
       " 'aa': 3,\n",
       " 'done': False}"
      ]
     },
     "execution_count": 347,
     "metadata": {},
     "output_type": "execute_result"
    }
   ],
   "source": [
    "rl.util.set_seed(0)\n",
    "explorer = OneStepExplorer(1, make_env())\n",
    "explorer.step(rl.policy.RandomPolicy(n_action=4))"
   ]
  },
  {
   "cell_type": "markdown",
   "metadata": {},
   "source": [
    "Expected result: \n",
    "\n",
    "```\n",
    "{'s': array([2, 0]),\n",
    " 'a': 3,\n",
    " 'r': -1,\n",
    " 'ss': array([2, 1]),\n",
    " 'aa': 3,\n",
    " 'done': False}\n",
    "```\n",
    "\n",
    "Your result might vary, but the structure should be the same."
   ]
  },
  {
   "cell_type": "code",
   "execution_count": 348,
   "metadata": {},
   "outputs": [
    {
     "ename": "InteractionExceeded",
     "evalue": "",
     "output_type": "error",
     "traceback": [
      "\u001b[1;31m---------------------------------------------------------------------------\u001b[0m",
      "\u001b[1;31mInteractionExceeded\u001b[0m                       Traceback (most recent call last)",
      "\u001b[1;32m<ipython-input-348-045ae5c6fd82>\u001b[0m in \u001b[0;36m<module>\u001b[1;34m\u001b[0m\n\u001b[1;32m----> 1\u001b[1;33m \u001b[0mexplorer\u001b[0m\u001b[1;33m.\u001b[0m\u001b[0mstep\u001b[0m\u001b[1;33m(\u001b[0m\u001b[0mrl\u001b[0m\u001b[1;33m.\u001b[0m\u001b[0mpolicy\u001b[0m\u001b[1;33m.\u001b[0m\u001b[0mRandomPolicy\u001b[0m\u001b[1;33m(\u001b[0m\u001b[0mn_action\u001b[0m\u001b[1;33m=\u001b[0m\u001b[1;36m4\u001b[0m\u001b[1;33m)\u001b[0m\u001b[1;33m)\u001b[0m\u001b[1;33m\u001b[0m\u001b[1;33m\u001b[0m\u001b[0m\n\u001b[0m",
      "\u001b[1;32m<ipython-input-346-69f40da02efb>\u001b[0m in \u001b[0;36mstep\u001b[1;34m(self, policy)\u001b[0m\n\u001b[0;32m     15\u001b[0m             \u001b[0mself\u001b[0m\u001b[1;33m.\u001b[0m\u001b[0mn_interaction\u001b[0m \u001b[1;33m=\u001b[0m \u001b[1;36m0\u001b[0m\u001b[1;33m\u001b[0m\u001b[1;33m\u001b[0m\u001b[0m\n\u001b[0;32m     16\u001b[0m             \u001b[0mself\u001b[0m\u001b[1;33m.\u001b[0m\u001b[0mcollect_reward\u001b[0m\u001b[1;33m.\u001b[0m\u001b[0mclear\u001b[0m\u001b[1;33m(\u001b[0m\u001b[1;33m)\u001b[0m\u001b[1;33m\u001b[0m\u001b[1;33m\u001b[0m\u001b[0m\n\u001b[1;32m---> 17\u001b[1;33m             \u001b[1;32mraise\u001b[0m \u001b[0mrl\u001b[0m\u001b[1;33m.\u001b[0m\u001b[0mexception\u001b[0m\u001b[1;33m.\u001b[0m\u001b[0mInteractionExceeded\u001b[0m\u001b[1;33m(\u001b[0m\u001b[1;33m)\u001b[0m\u001b[1;33m\u001b[0m\u001b[1;33m\u001b[0m\u001b[0m\n\u001b[0m\u001b[0;32m     18\u001b[0m         \u001b[0mself\u001b[0m\u001b[1;33m.\u001b[0m\u001b[0mn_interaction\u001b[0m\u001b[1;33m+=\u001b[0m\u001b[1;36m1\u001b[0m\u001b[1;33m\u001b[0m\u001b[1;33m\u001b[0m\u001b[0m\n\u001b[0;32m     19\u001b[0m         \u001b[0mself\u001b[0m\u001b[1;33m.\u001b[0m\u001b[0mn_ep\u001b[0m\u001b[1;33m+=\u001b[0m\u001b[1;36m1\u001b[0m\u001b[1;33m\u001b[0m\u001b[1;33m\u001b[0m\u001b[0m\n",
      "\u001b[1;31mInteractionExceeded\u001b[0m: "
     ]
    }
   ],
   "source": [
    "explorer.step(rl.policy.RandomPolicy(n_action=4))"
   ]
  },
  {
   "cell_type": "markdown",
   "metadata": {},
   "source": [
    "Expected result: `InteractionExceeded` exception raised."
   ]
  },
  {
   "cell_type": "markdown",
   "metadata": {},
   "source": [
    "## Running the algorithm"
   ]
  },
  {
   "cell_type": "code",
   "execution_count": 349,
   "metadata": {},
   "outputs": [],
   "source": [
    "def run(policy, n_max_interaction):\n",
    "    rl.util.set_seed(0) # predictable results\n",
    "    env = make_env()\n",
    "    env.reset()\n",
    "    explorer = OneStepExplorer(n_max_interaction=n_max_interaction, env=env)\n",
    "    while True:\n",
    "        try:\n",
    "            data = explorer.step(policy)\n",
    "            #print(data)\n",
    "            policy.optimize_step(data)  # not defined\n",
    "        except rl.exception.InteractionExceeded:\n",
    "            break\n",
    "    #print(explorer.get_reward())\n",
    "    reward = explorer.get_reward()\n",
    "    df = pd.DataFrame(reward)\n",
    "    df.columns = ['n_interaction', 'reward']\n",
    "    print(df)\n",
    "    #df.dropna()\n",
    "    return df"
   ]
  },
  {
   "cell_type": "code",
   "execution_count": 351,
   "metadata": {
    "scrolled": false
   },
   "outputs": [
    {
     "name": "stdout",
     "output_type": "stream",
     "text": [
      "     n_interaction  reward\n",
      "0                1      -1\n",
      "1                2      -2\n",
      "2                3      -3\n",
      "3                4      -4\n",
      "4                5      -5\n",
      "..             ...     ...\n",
      "495            496      -2\n",
      "496            497       2\n",
      "497            498      -1\n",
      "498            499      -2\n",
      "499            500       2\n",
      "\n",
      "[500 rows x 2 columns]\n",
      "max: 2\n"
     ]
    },
    {
     "data": {
      "text/plain": [
       "<matplotlib.axes._subplots.AxesSubplot at 0x76d670>"
      ]
     },
     "execution_count": 351,
     "metadata": {},
     "output_type": "execute_result"
    },
    {
     "data": {
      "image/png": "[encoded data removed]",
      "text/plain": [
       "<Figure size 432x288 with 1 Axes>"
      ]
     },
     "metadata": {
      "needs_background": "light"
     },
     "output_type": "display_data"
    }
   ],
   "source": [
    "policy = SARSAPolicy(lr=0.1,\n",
    "                     discount_factor=0.99,\n",
    "                     observation_space=env.observation_space,\n",
    "                     n_action=env.action_space.n)\n",
    "stats = run(policy, 500)\n",
    "print('max:', stats['reward'].max())\n",
    "stats.plot(x='n_interaction', y='reward')"
   ]
  },
  {
   "cell_type": "markdown",
   "metadata": {},
   "source": [
    "Expected result: In our implementation, we could get ~2 reward under 500 iteractions."
   ]
  },
  {
   "cell_type": "markdown",
   "metadata": {},
   "source": [
    "# Q1: Even without an explicit exploration like epsilon greedy, SARSA seems to work! Why is that the case? What works as an \"implicit\" exploration?\n",
    "\n",
    "Describe here ...\n",
    "เพราะทำจำนวนรอบเยอะเมื่อเทียบกับ action ทั้งหมดที่จะเป็นไปได้ จึงสามารถทดลองทุกๆ action ที่เป็นไปได้"
   ]
  },
  {
   "cell_type": "markdown",
   "metadata": {},
   "source": [
    "# Q2: Show us then when an explicit exploration would be important? \n",
    "\n",
    "Create code blocks (and run them) as needed to proof your argument by comparing results SARSA vs. SARSA + epsilon greedy \n",
    "\n",
    "Plots are welcome."
   ]
  },
  {
   "cell_type": "code",
   "execution_count": 355,
   "metadata": {},
   "outputs": [],
   "source": [
    "class EpsilonGreedy(rl.policy.BasePolicyWrapper):\n",
    "    def __init__(self, policy):\n",
    "        self.policy = policy\n",
    "\n",
    "    def step(self, state):\n",
    "        # code here ...\n",
    "        #print(self.q[tuple(state)])\n",
    "        #if(tuple(state) == (2,0)): print(self.q[tuple(state)])\n",
    "        x = np.argmax(self.q[tuple(state)])\n",
    "        e = 0.4\n",
    "        #print(self.n_action)\n",
    "        prob = []\n",
    "        for i in range(self.n_action):\n",
    "            prob.append(0)\n",
    "            if(i==x):\n",
    "                prob[i] = 1-e+(e/4)\n",
    "            else:\n",
    "                prob[i] = e/4\n",
    "        prob = np.array(prob)\n",
    "        return np.random.choice(np.arange(self.n_action),p=prob)\n",
    "\n",
    "    def optimize_step(self, data):\n",
    "        # code here ...\n",
    "        s = data['s']\n",
    "        a = data['a']\n",
    "        r = data['r']\n",
    "        ss = data['ss']\n",
    "        aa = data['aa']\n",
    "        s0 = (s[0],s[1],a)\n",
    "        s1 = (ss[0],ss[1],aa)\n",
    "        #print('hi')\n",
    "        #print(s0,r,s1)\n",
    "        #print(self.q[s0] + self.discount_factor*(r+self.q[s1]))\n",
    "        self.q[s0] = self.q[s0] + self.discount_factor*(r+self.q[s1])\n",
    "        #print(self.q)"
   ]
  },
  {
   "cell_type": "code",
   "execution_count": 357,
   "metadata": {},
   "outputs": [
    {
     "name": "stdout",
     "output_type": "stream",
     "text": [
      "     n_interaction  reward\n",
      "0                1      -1\n",
      "1                2      -2\n",
      "2                3      -3\n",
      "3                4      -4\n",
      "4                5      -5\n",
      "..             ...     ...\n",
      "495            496      -4\n",
      "496            497      -5\n",
      "497            498      -6\n",
      "498            499      -7\n",
      "499            500      -8\n",
      "\n",
      "[500 rows x 2 columns]\n",
      "max: 2\n"
     ]
    },
    {
     "data": {
      "text/plain": [
       "<matplotlib.axes._subplots.AxesSubplot at 0xf89110>"
      ]
     },
     "execution_count": 357,
     "metadata": {},
     "output_type": "execute_result"
    },
    {
     "data": {
      "image/png": "[encoded data removed]",
      "text/plain": [
       "<Figure size 432x288 with 1 Axes>"
      ]
     },
     "metadata": {
      "needs_background": "light"
     },
     "output_type": "display_data"
    }
   ],
   "source": [
    "policy = SARSAPolicy(lr=0.1,\n",
    "                     discount_factor=0.99,\n",
    "                     observation_space=env.observation_space,\n",
    "                     n_action=env.action_space.n)\n",
    "policy = EpsilonGreedy(policy)\n",
    "stats = run(policy, 500)\n",
    "print('max:', stats['reward'].max())\n",
    "stats.plot(x='n_interaction', y='reward')"
   ]
  },
  {
   "cell_type": "markdown",
   "metadata": {},
   "source": [
    "Create blocks as needed ..."
   ]
  },
  {
   "cell_type": "code",
   "execution_count": 358,
   "metadata": {},
   "outputs": [],
   "source": [
    "# ใช้ epsilon จะทำให้เจอค่า max reward ที่รวดเร็วกว่า"
   ]
  },
  {
   "cell_type": "code",
   "execution_count": null,
   "metadata": {},
   "outputs": [],
   "source": []
  }
 ],
 "metadata": {
  "kernelspec": {
   "display_name": "Python 3",
   "language": "python",
   "name": "python3"
  },
  "language_info": {
   "codemirror_mode": {
    "name": "ipython",
    "version": 3
   },
   "file_extension": ".py",
   "mimetype": "text/x-python",
   "name": "python",
   "nbconvert_exporter": "python",
   "pygments_lexer": "ipython3",
   "version": "3.7.4"
  }
 },
 "nbformat": 4,
 "nbformat_minor": 4
}
