{
 "cells": [
  {
   "cell_type": "markdown",
   "metadata": {
    "colab_type": "text",
    "id": "JndnmDMp66FL"
   },
   "source": [
    "#### Copyright 2017 Google LLC."
   ]
  },
  {
   "cell_type": "code",
   "execution_count": 1,
   "metadata": {
    "cellView": "both",
    "colab": {},
    "colab_type": "code",
    "id": "hMqWDc_m6rUC"
   },
   "outputs": [],
   "source": [
    "# Licensed under the Apache License, Version 2.0 (the \"License\");\n",
    "# you may not use this file except in compliance with the License.\n",
    "# You may obtain a copy of the License at\n",
    "#\n",
    "# https://www.apache.org/licenses/LICENSE-2.0\n",
    "#\n",
    "# Unless required by applicable law or agreed to in writing, software\n",
    "# distributed under the License is distributed on an \"AS IS\" BASIS,\n",
    "# WITHOUT WARRANTIES OR CONDITIONS OF ANY KIND, either express or implied.\n",
    "# See the License for the specific language governing permissions and\n",
    "# limitations under the License.\n",
    "import warnings\n",
    "warnings.filterwarnings('ignore')"
   ]
  },
  {
   "cell_type": "markdown",
   "metadata": {
    "colab_type": "text",
    "id": "4f3CKqFUqL2-"
   },
   "source": [
    "# First Steps with TensorFlow 2.x"
   ]
  },
  {
   "cell_type": "markdown",
   "metadata": {
    "colab_type": "text",
    "id": "qNcnN-NHKGbM"
   },
   "source": [
    "This notebook is modified from `first_steps_with_tensorflow.ipynb` to use Tensorflow 2.x instead of Tensorflow 1.x. We borrow heavily from [@fchollet's Twitter thread]() and recommend everyone to check it out."
   ]
  },
  {
   "cell_type": "markdown",
   "metadata": {
    "colab_type": "text",
    "id": "Bd2Zkk1LE2Zr"
   },
   "source": [
    "**Learning Objectives:**\n",
    "  * Learn fundamental TensorFlow 2.x concepts\n",
    "  * Create a multi-layer perceptron model in TensorFlow to predict median housing price, at the granularity of city blocks, based on nine numerical features.\n",
    "  * Evaluate the accuracy of a model's predictions using Root Mean Squared Error (RMSE)\n",
    "  * Convert the model to run on static graph for better performance"
   ]
  },
  {
   "cell_type": "markdown",
   "metadata": {
    "colab_type": "text",
    "id": "MxiIKhP4E2Zr"
   },
   "source": [
    "The [data](https://developers.google.com/machine-learning/crash-course/california-housing-data-description) is based on 1990 census data from California."
   ]
  },
  {
   "cell_type": "markdown",
   "metadata": {
    "colab_type": "text",
    "id": "6TjLjL9IU80G"
   },
   "source": [
    "## Setup\n",
    "In this first cell, we'll load the necessary libraries."
   ]
  },
  {
   "cell_type": "code",
   "execution_count": 2,
   "metadata": {
    "colab": {
     "base_uri": "https://localhost:8080/",
     "height": 51
    },
    "colab_type": "code",
    "id": "rVFf5asKE2Zt",
    "outputId": "afbc289e-360c-41ce-e174-f661a902a2c2"
   },
   "outputs": [
    {
     "name": "stdout",
     "output_type": "stream",
     "text": [
      "1.14.0\n"
     ]
    }
   ],
   "source": [
    "# #uncomment if you're running from colab\n",
    "# %tensorflow_version 2.x\n",
    "\n",
    "\n",
    "\n",
    "from IPython import display\n",
    "import math\n",
    "from matplotlib import cm\n",
    "from matplotlib import gridspec\n",
    "from matplotlib import pyplot as plt\n",
    "import numpy as np\n",
    "import pandas as pd\n",
    "from sklearn import metrics\n",
    "import datetime\n",
    "\n",
    "import tensorflow as tf\n",
    "from tensorflow.keras import layers,Model\n",
    "print(tf.__version__)\n",
    "tf.enable_eager_execution()"
   ]
  },
  {
   "cell_type": "markdown",
   "metadata": {
    "colab_type": "text",
    "id": "ipRyUHjhU80Q"
   },
   "source": [
    "Next, we'll load our data set."
   ]
  },
  {
   "cell_type": "code",
   "execution_count": 3,
   "metadata": {
    "colab": {},
    "colab_type": "code",
    "id": "9ivCDWnwE2Zx"
   },
   "outputs": [],
   "source": [
    "cali_df = pd.read_csv(\"https://download.mlcc.google.com/mledu-datasets/california_housing_train.csv\", sep=\",\")\n",
    "# cali_df = pd.read_csv('data/california_housing_train.csv', sep=\",\")"
   ]
  },
  {
   "cell_type": "markdown",
   "metadata": {
    "colab_type": "text",
    "id": "vVk_qlG6U80j"
   },
   "source": [
    "We'll randomize the data, just to be sure not to get any pathological ordering effects that might harm the performance of Stochastic Gradient Descent. Additionally, we'll scale `median_house_value` to be in units of thousands, so it can be learned a little more easily with learning rates in a range that we usually use."
   ]
  },
  {
   "cell_type": "code",
   "execution_count": 4,
   "metadata": {
    "colab": {
     "base_uri": "https://localhost:8080/",
     "height": 204
    },
    "colab_type": "code",
    "id": "r0eVyguIU80m",
    "outputId": "8bd3c415-6b56-4428-fb43-0c2fcee38c1e"
   },
   "outputs": [
    {
     "data": {
      "text/html": [
       "<div>\n",
       "<style scoped>\n",
       "    .dataframe tbody tr th:only-of-type {\n",
       "        vertical-align: middle;\n",
       "    }\n",
       "\n",
       "    .dataframe tbody tr th {\n",
       "        vertical-align: top;\n",
       "    }\n",
       "\n",
       "    .dataframe thead th {\n",
       "        text-align: right;\n",
       "    }\n",
       "</style>\n",
       "<table border=\"1\" class=\"dataframe\">\n",
       "  <thead>\n",
       "    <tr style=\"text-align: right;\">\n",
       "      <th></th>\n",
       "      <th>longitude</th>\n",
       "      <th>latitude</th>\n",
       "      <th>housing_median_age</th>\n",
       "      <th>total_rooms</th>\n",
       "      <th>total_bedrooms</th>\n",
       "      <th>population</th>\n",
       "      <th>households</th>\n",
       "      <th>median_income</th>\n",
       "      <th>median_house_value</th>\n",
       "    </tr>\n",
       "  </thead>\n",
       "  <tbody>\n",
       "    <tr>\n",
       "      <th>4173</th>\n",
       "      <td>-117.99</td>\n",
       "      <td>33.86</td>\n",
       "      <td>36.0</td>\n",
       "      <td>1138.0</td>\n",
       "      <td>228.0</td>\n",
       "      <td>725.0</td>\n",
       "      <td>219.0</td>\n",
       "      <td>3.4167</td>\n",
       "      <td>187.2</td>\n",
       "    </tr>\n",
       "    <tr>\n",
       "      <th>5993</th>\n",
       "      <td>-118.21</td>\n",
       "      <td>33.82</td>\n",
       "      <td>34.0</td>\n",
       "      <td>1719.0</td>\n",
       "      <td>398.0</td>\n",
       "      <td>1444.0</td>\n",
       "      <td>372.0</td>\n",
       "      <td>2.8438</td>\n",
       "      <td>139.3</td>\n",
       "    </tr>\n",
       "    <tr>\n",
       "      <th>10665</th>\n",
       "      <td>-120.56</td>\n",
       "      <td>38.48</td>\n",
       "      <td>14.0</td>\n",
       "      <td>3545.0</td>\n",
       "      <td>702.0</td>\n",
       "      <td>946.0</td>\n",
       "      <td>411.0</td>\n",
       "      <td>3.4609</td>\n",
       "      <td>120.9</td>\n",
       "    </tr>\n",
       "    <tr>\n",
       "      <th>15008</th>\n",
       "      <td>-122.24</td>\n",
       "      <td>37.47</td>\n",
       "      <td>40.0</td>\n",
       "      <td>1504.0</td>\n",
       "      <td>270.0</td>\n",
       "      <td>689.0</td>\n",
       "      <td>287.0</td>\n",
       "      <td>6.1244</td>\n",
       "      <td>308.8</td>\n",
       "    </tr>\n",
       "    <tr>\n",
       "      <th>6148</th>\n",
       "      <td>-118.23</td>\n",
       "      <td>33.91</td>\n",
       "      <td>33.0</td>\n",
       "      <td>677.0</td>\n",
       "      <td>182.0</td>\n",
       "      <td>984.0</td>\n",
       "      <td>174.0</td>\n",
       "      <td>2.5893</td>\n",
       "      <td>88.9</td>\n",
       "    </tr>\n",
       "  </tbody>\n",
       "</table>\n",
       "</div>"
      ],
      "text/plain": [
       "       longitude  latitude  housing_median_age  total_rooms  total_bedrooms  \\\n",
       "4173     -117.99     33.86                36.0       1138.0           228.0   \n",
       "5993     -118.21     33.82                34.0       1719.0           398.0   \n",
       "10665    -120.56     38.48                14.0       3545.0           702.0   \n",
       "15008    -122.24     37.47                40.0       1504.0           270.0   \n",
       "6148     -118.23     33.91                33.0        677.0           182.0   \n",
       "\n",
       "       population  households  median_income  median_house_value  \n",
       "4173        725.0       219.0         3.4167               187.2  \n",
       "5993       1444.0       372.0         2.8438               139.3  \n",
       "10665       946.0       411.0         3.4609               120.9  \n",
       "15008       689.0       287.0         6.1244               308.8  \n",
       "6148        984.0       174.0         2.5893                88.9  "
      ]
     },
     "execution_count": 4,
     "metadata": {},
     "output_type": "execute_result"
    }
   ],
   "source": [
    "cali_df = cali_df.reindex(\n",
    "    np.random.permutation(cali_df.index))\n",
    "cali_df[\"median_house_value\"] /= 1000.0\n",
    "cali_df.head()"
   ]
  },
  {
   "cell_type": "markdown",
   "metadata": {
    "colab_type": "text",
    "id": "HzzlSs3PtTmt"
   },
   "source": [
    "## Examine the Data\n",
    "\n",
    "It's a good idea to get to know your data a little bit before you work with it.\n",
    "\n",
    "We'll print out a quick summary of a few useful statistics on each column: count of examples, mean, standard deviation, max, min, and various quantiles."
   ]
  },
  {
   "cell_type": "code",
   "execution_count": 5,
   "metadata": {
    "cellView": "both",
    "colab": {
     "base_uri": "https://localhost:8080/",
     "height": 297
    },
    "colab_type": "code",
    "id": "gzb10yoVrydW",
    "outputId": "d014a6c5-1473-484f-b93c-fd6966498087"
   },
   "outputs": [
    {
     "data": {
      "text/html": [
       "<div>\n",
       "<style scoped>\n",
       "    .dataframe tbody tr th:only-of-type {\n",
       "        vertical-align: middle;\n",
       "    }\n",
       "\n",
       "    .dataframe tbody tr th {\n",
       "        vertical-align: top;\n",
       "    }\n",
       "\n",
       "    .dataframe thead th {\n",
       "        text-align: right;\n",
       "    }\n",
       "</style>\n",
       "<table border=\"1\" class=\"dataframe\">\n",
       "  <thead>\n",
       "    <tr style=\"text-align: right;\">\n",
       "      <th></th>\n",
       "      <th>longitude</th>\n",
       "      <th>latitude</th>\n",
       "      <th>housing_median_age</th>\n",
       "      <th>total_rooms</th>\n",
       "      <th>total_bedrooms</th>\n",
       "      <th>population</th>\n",
       "      <th>households</th>\n",
       "      <th>median_income</th>\n",
       "      <th>median_house_value</th>\n",
       "    </tr>\n",
       "  </thead>\n",
       "  <tbody>\n",
       "    <tr>\n",
       "      <th>count</th>\n",
       "      <td>17000.000000</td>\n",
       "      <td>17000.000000</td>\n",
       "      <td>17000.000000</td>\n",
       "      <td>17000.000000</td>\n",
       "      <td>17000.000000</td>\n",
       "      <td>17000.000000</td>\n",
       "      <td>17000.000000</td>\n",
       "      <td>17000.000000</td>\n",
       "      <td>17000.000000</td>\n",
       "    </tr>\n",
       "    <tr>\n",
       "      <th>mean</th>\n",
       "      <td>-119.562108</td>\n",
       "      <td>35.625225</td>\n",
       "      <td>28.589353</td>\n",
       "      <td>2643.664412</td>\n",
       "      <td>539.410824</td>\n",
       "      <td>1429.573941</td>\n",
       "      <td>501.221941</td>\n",
       "      <td>3.883578</td>\n",
       "      <td>207.300912</td>\n",
       "    </tr>\n",
       "    <tr>\n",
       "      <th>std</th>\n",
       "      <td>2.005166</td>\n",
       "      <td>2.137340</td>\n",
       "      <td>12.586937</td>\n",
       "      <td>2179.947071</td>\n",
       "      <td>421.499452</td>\n",
       "      <td>1147.852959</td>\n",
       "      <td>384.520841</td>\n",
       "      <td>1.908157</td>\n",
       "      <td>115.983764</td>\n",
       "    </tr>\n",
       "    <tr>\n",
       "      <th>min</th>\n",
       "      <td>-124.350000</td>\n",
       "      <td>32.540000</td>\n",
       "      <td>1.000000</td>\n",
       "      <td>2.000000</td>\n",
       "      <td>1.000000</td>\n",
       "      <td>3.000000</td>\n",
       "      <td>1.000000</td>\n",
       "      <td>0.499900</td>\n",
       "      <td>14.999000</td>\n",
       "    </tr>\n",
       "    <tr>\n",
       "      <th>25%</th>\n",
       "      <td>-121.790000</td>\n",
       "      <td>33.930000</td>\n",
       "      <td>18.000000</td>\n",
       "      <td>1462.000000</td>\n",
       "      <td>297.000000</td>\n",
       "      <td>790.000000</td>\n",
       "      <td>282.000000</td>\n",
       "      <td>2.566375</td>\n",
       "      <td>119.400000</td>\n",
       "    </tr>\n",
       "    <tr>\n",
       "      <th>50%</th>\n",
       "      <td>-118.490000</td>\n",
       "      <td>34.250000</td>\n",
       "      <td>29.000000</td>\n",
       "      <td>2127.000000</td>\n",
       "      <td>434.000000</td>\n",
       "      <td>1167.000000</td>\n",
       "      <td>409.000000</td>\n",
       "      <td>3.544600</td>\n",
       "      <td>180.400000</td>\n",
       "    </tr>\n",
       "    <tr>\n",
       "      <th>75%</th>\n",
       "      <td>-118.000000</td>\n",
       "      <td>37.720000</td>\n",
       "      <td>37.000000</td>\n",
       "      <td>3151.250000</td>\n",
       "      <td>648.250000</td>\n",
       "      <td>1721.000000</td>\n",
       "      <td>605.250000</td>\n",
       "      <td>4.767000</td>\n",
       "      <td>265.000000</td>\n",
       "    </tr>\n",
       "    <tr>\n",
       "      <th>max</th>\n",
       "      <td>-114.310000</td>\n",
       "      <td>41.950000</td>\n",
       "      <td>52.000000</td>\n",
       "      <td>37937.000000</td>\n",
       "      <td>6445.000000</td>\n",
       "      <td>35682.000000</td>\n",
       "      <td>6082.000000</td>\n",
       "      <td>15.000100</td>\n",
       "      <td>500.001000</td>\n",
       "    </tr>\n",
       "  </tbody>\n",
       "</table>\n",
       "</div>"
      ],
      "text/plain": [
       "          longitude      latitude  housing_median_age   total_rooms  \\\n",
       "count  17000.000000  17000.000000        17000.000000  17000.000000   \n",
       "mean    -119.562108     35.625225           28.589353   2643.664412   \n",
       "std        2.005166      2.137340           12.586937   2179.947071   \n",
       "min     -124.350000     32.540000            1.000000      2.000000   \n",
       "25%     -121.790000     33.930000           18.000000   1462.000000   \n",
       "50%     -118.490000     34.250000           29.000000   2127.000000   \n",
       "75%     -118.000000     37.720000           37.000000   3151.250000   \n",
       "max     -114.310000     41.950000           52.000000  37937.000000   \n",
       "\n",
       "       total_bedrooms    population    households  median_income  \\\n",
       "count    17000.000000  17000.000000  17000.000000   17000.000000   \n",
       "mean       539.410824   1429.573941    501.221941       3.883578   \n",
       "std        421.499452   1147.852959    384.520841       1.908157   \n",
       "min          1.000000      3.000000      1.000000       0.499900   \n",
       "25%        297.000000    790.000000    282.000000       2.566375   \n",
       "50%        434.000000   1167.000000    409.000000       3.544600   \n",
       "75%        648.250000   1721.000000    605.250000       4.767000   \n",
       "max       6445.000000  35682.000000   6082.000000      15.000100   \n",
       "\n",
       "       median_house_value  \n",
       "count        17000.000000  \n",
       "mean           207.300912  \n",
       "std            115.983764  \n",
       "min             14.999000  \n",
       "25%            119.400000  \n",
       "50%            180.400000  \n",
       "75%            265.000000  \n",
       "max            500.001000  "
      ]
     },
     "execution_count": 5,
     "metadata": {},
     "output_type": "execute_result"
    }
   ],
   "source": [
    "cali_df.describe()"
   ]
  },
  {
   "cell_type": "markdown",
   "metadata": {
    "colab_type": "text",
    "id": "Lr6wYl2bt2Ep"
   },
   "source": [
    "## Build the First Model\n",
    "\n",
    "In this exercise, we'll try to predict `median_house_value`, which will be our label (sometimes also called a target). We'll use every other numerical features as our input feature.\n",
    "\n",
    "**NOTE:** Our data is at the city block level, so this feature represents the total number of rooms in that block.\n",
    "\n",
    "To train our model, we'll use a multi-layer perceptron (MLP) model based on Tensorflow 2.x `tf.keras` APIs and Eager Mode. We will then convert the model to static graph mode for better performance."
   ]
  },
  {
   "cell_type": "markdown",
   "metadata": {
    "colab_type": "text",
    "id": "0cpcsieFhsNI"
   },
   "source": [
    "### Step 1: Define Features and Target"
   ]
  },
  {
   "cell_type": "markdown",
   "metadata": {
    "colab_type": "text",
    "id": "EL8-9d4ZJNR7"
   },
   "source": [
    "In order to import our training data into TensorFlow, we need to specify what type of data each feature contains. There are two main types of data we'll use in this and future exercises:\n",
    "\n",
    "* **Categorical Data**: Data that is textual. In this exercise, our housing data set does not contain any categorical features, but examples you might see would be the home style, the words in a real-estate ad.\n",
    "\n",
    "* **Numerical Data**: Data that is a number (integer or float) and that you want to treat as a number. As we will discuss more later sometimes you might want to treat numerical data (e.g., a postal code) as if it were categorical.\n",
    "\n",
    "In TensorFlow, we indicate a feature's data type using a construct called a **feature column**. Feature columns store only a description of the feature data; they do not contain the feature data itself.\n",
    "\n",
    "To start, we're going to use just numerical features and median household value as target."
   ]
  },
  {
   "cell_type": "code",
   "execution_count": 6,
   "metadata": {
    "colab": {
     "base_uri": "https://localhost:8080/",
     "height": 34
    },
    "colab_type": "code",
    "id": "rhEbFCZ86cDZ",
    "outputId": "5bc2d1e9-c76d-4f77-8ad2-ff3e3eb70307"
   },
   "outputs": [
    {
     "data": {
      "text/plain": [
       "((13600, 9), (3400, 9))"
      ]
     },
     "execution_count": 6,
     "metadata": {},
     "output_type": "execute_result"
    }
   ],
   "source": [
    "num_features = ['longitude','latitude','housing_median_age','total_rooms','total_bedrooms','population','households','median_income']\n",
    "target = ['median_house_value']\n",
    "\n",
    "#split\n",
    "from sklearn.model_selection import train_test_split\n",
    "train_df, valid_df = train_test_split(cali_df[num_features+target],test_size=0.2)\n",
    "train_df.shape, valid_df.shape"
   ]
  },
  {
   "cell_type": "code",
   "execution_count": 7,
   "metadata": {
    "colab": {
     "base_uri": "https://localhost:8080/",
     "height": 153
    },
    "colab_type": "code",
    "id": "VbxOn9ZCOekc",
    "outputId": "62a7431c-e51d-40a6-e381-16a7bad89392"
   },
   "outputs": [
    {
     "data": {
      "text/plain": [
       "(array([-0.23139175, -0.06974687, -0.1375708 , ...,  1.04125404,\n",
       "         0.13598076,  0.09589534]),\n",
       " array([0.77020998, 0.8725401 , 0.94528348, ..., 1.34513729, 0.5123828 ,\n",
       "        0.84625649]),\n",
       " array([ 0.0928867 , -0.08648356, -0.36888908, ...,  0.15726645,\n",
       "         0.05724429,  0.24894684]),\n",
       " array([0.69313593, 0.87566229, 0.58386844, ..., 0.65015914, 1.03230631,\n",
       "        0.76096879]))"
      ]
     },
     "execution_count": 7,
     "metadata": {},
     "output_type": "execute_result"
    }
   ],
   "source": [
    "#standardize\n",
    "from sklearn.preprocessing import StandardScaler\n",
    "scaler = StandardScaler().fit(train_df[num_features])\n",
    "train_scaled = scaler.transform(train_df[num_features])\n",
    "valid_scaled = scaler.transform(valid_df[num_features])\n",
    "#print(type(train_scaled))\n",
    "#np.mean(train_scaled)\n",
    "#print(np.mean(train_scaled, axis=1))\n",
    "train_scaled.mean(1), train_scaled.std(1), valid_scaled.mean(1), valid_scaled.std(1)"
   ]
  },
  {
   "cell_type": "code",
   "execution_count": 8,
   "metadata": {
    "colab": {
     "base_uri": "https://localhost:8080/",
     "height": 34
    },
    "colab_type": "code",
    "id": "Jmmq5X2BNVrb",
    "outputId": "f0c66549-82e5-49f0-af67-148d272d4ea1"
   },
   "outputs": [
    {
     "data": {
      "text/plain": [
       "((13600, 8), (13600, 1), (3400, 8), (3400, 1))"
      ]
     },
     "execution_count": 8,
     "metadata": {},
     "output_type": "execute_result"
    }
   ],
   "source": [
    "#to numpy\n",
    "train_x = np.array(train_scaled)\n",
    "train_y = np.array(train_df[target])\n",
    "valid_x = np.array(valid_scaled)\n",
    "valid_y = np.array(valid_df[target])\n",
    "train_x.shape,train_y.shape,valid_x.shape,valid_y.shape"
   ]
  },
  {
   "cell_type": "code",
   "execution_count": 9,
   "metadata": {
    "colab": {},
    "colab_type": "code",
    "id": "LUajUVm8KGbz",
    "outputId": "e8a6ee06-fc6b-4a3a-c942-680ad60e1273"
   },
   "outputs": [
    {
     "data": {
      "text/plain": [
       "(array([[ 1.23553132, -1.32858046,  0.58833289, -0.51416241, -0.65319214,\n",
       "         -0.65762819, -0.63279288,  0.11135788],\n",
       "        [-1.10163415,  0.60096547, -1.62739982,  0.03328552,  0.50424149,\n",
       "          1.01244559,  0.56940094, -0.54927999],\n",
       "        [ 1.25550709, -1.09441226, -0.91520002, -0.38907102, -0.54318812,\n",
       "         -0.47450993, -0.57767046,  1.63797831],\n",
       "        [ 0.910925  , -0.72910988,  1.85446587, -0.35768278, -0.53362255,\n",
       "         -0.42520886, -0.45430123,  0.18629013],\n",
       "        [ 0.63625812, -0.89771098,  0.58833289,  0.2271541 ,  0.49467592,\n",
       "          0.33895775,  0.51427851, -0.06569767],\n",
       "        [-0.87191276,  1.09271867,  1.85446587,  0.00512842, -0.170131  ,\n",
       "         -0.24032984, -0.01857159, -0.34471965],\n",
       "        [-0.06788789,  0.55413183,  0.27179965, -0.00918093, -0.02664749,\n",
       "          0.12326556, -0.02382134, -0.61145337],\n",
       "        [ 0.6911915 , -0.82277716,  0.74659952,  0.00974434,  0.20770891,\n",
       "          0.17344701,  0.27016492, -0.06930572],\n",
       "        [-0.45741546,  1.88889053,  0.27179965, -0.52016311, -0.59819013,\n",
       "         -0.9912908 , -0.97140206, -1.04651012],\n",
       "        [-0.69712474,  0.95221776, -0.99433333,  1.07002083,  0.86773305,\n",
       "          1.07759344,  0.79514039,  0.20762464]]), array([[171.2],\n",
       "        [162. ],\n",
       "        [267.6],\n",
       "        [140.1],\n",
       "        [300. ],\n",
       "        [107.6],\n",
       "        [ 68. ],\n",
       "        [161.9],\n",
       "        [ 71. ],\n",
       "        [138.3]]))"
      ]
     },
     "execution_count": 9,
     "metadata": {},
     "output_type": "execute_result"
    }
   ],
   "source": [
    "train_x[:10],train_y[:10]"
   ]
  },
  {
   "cell_type": "markdown",
   "metadata": {
    "colab_type": "text",
    "id": "4M-rTFHL2UkA"
   },
   "source": [
    "### Step 2: Create `Dataset` Object"
   ]
  },
  {
   "cell_type": "markdown",
   "metadata": {
    "colab_type": "text",
    "id": "_uH9JJrIKGb3"
   },
   "source": [
    "`Dataset` object is responsible for shuffling and feeding the features-target pairs into the architecture. We also create a validation `Dataset` with batch size equal to all validation examples and no shuffling."
   ]
  },
  {
   "cell_type": "code",
   "execution_count": 10,
   "metadata": {
    "colab": {
     "base_uri": "https://localhost:8080/",
     "height": 51
    },
    "colab_type": "code",
    "id": "uNsy47-1Jxe9",
    "outputId": "fed2f056-b4b5-49b7-f70a-d76c1656dd33"
   },
   "outputs": [
    {
     "data": {
      "text/plain": [
       "(<DatasetV1Adapter shapes: ((?, 8), (?, 1)), types: (tf.float64, tf.float64)>,\n",
       " <DatasetV1Adapter shapes: ((?, 8), (?, 1)), types: (tf.float64, tf.float64)>)"
      ]
     },
     "execution_count": 10,
     "metadata": {},
     "output_type": "execute_result"
    }
   ],
   "source": [
    "#datasets\n",
    "#shuffle with buffer equal to size of dataset\n",
    "#print(train_y)\n",
    "train_ds = tf.data.Dataset.from_tensor_slices((train_x,train_y)).shuffle(buffer_size=train_y.shape[0]).batch(64)\n",
    "#no shuffling for validation\n",
    "valid_ds = tf.data.Dataset.from_tensor_slices((train_x,train_y)).batch(valid_y.shape[0])\n",
    "train_ds, valid_ds"
   ]
  },
  {
   "cell_type": "markdown",
   "metadata": {
    "colab_type": "text",
    "id": "W2OPpS0SQ4z4"
   },
   "source": [
    "## Step 3: Define Architecture"
   ]
  },
  {
   "cell_type": "markdown",
   "metadata": {
    "colab_type": "text",
    "id": "hSxzvhAyKGb9"
   },
   "source": [
    "There are [several ways](https://www.tensorflow.org/versions/r2.0/api_docs/python/tf/keras/Model) to define an architecture in Tensorflow 2.0. Here we introduce:"
   ]
  },
  {
   "cell_type": "markdown",
   "metadata": {
    "colab_type": "text",
    "id": "q4PTWXzyKGb-"
   },
   "source": [
    "#### Step 3.1: Subclassing `tf.keras.layers.Layer` and `tf.keras.Model`"
   ]
  },
  {
   "cell_type": "markdown",
   "metadata": {
    "colab_type": "text",
    "id": "VSEZWZ_uKGb_"
   },
   "source": [
    "You can create your own `tf.keras.layers.Layer` object, which acts as a layer or a collection of layers in your architecture. Here we define our own `Linear` layer for a fully-connect layer instead of using `tf.keras.layers.Dense`."
   ]
  },
  {
   "cell_type": "code",
   "execution_count": 11,
   "metadata": {
    "colab": {},
    "colab_type": "code",
    "id": "9CistZoLKGcB"
   },
   "outputs": [],
   "source": [
    "class Linear(layers.Layer):\n",
    "    def __init__(self, output_dim):\n",
    "        #print(output_dim)\n",
    "        super(Linear,self).__init__()\n",
    "        self.output_dim = output_dim\n",
    "    #use build method to build the weights without having to specify input dimension\n",
    "    def build(self,x_shape):\n",
    "        self.w = self.add_weight(shape=(x_shape[-1],self.output_dim),\n",
    "                                initializer='he_normal',trainable=True)\n",
    "        self.b = self.add_weight(shape=(self.output_dim,),\n",
    "                                initializer='zeros',trainable=True)\n",
    "    def call(self,x):\n",
    "        return tf.matmul(x,self.w) + self.b"
   ]
  },
  {
   "cell_type": "code",
   "execution_count": 12,
   "metadata": {
    "colab": {},
    "colab_type": "code",
    "id": "ypzI0s_LQ832"
   },
   "outputs": [],
   "source": [
    "#piece linear layers together to get our simple MLP architecture\n",
    "class MLP(Model):\n",
    "    def __init__(self,output_dims=[32,32,1]):\n",
    "        super(MLP,self).__init__()\n",
    "        #we intentionally do not specify any activation to show we can use functional tf.nn later\n",
    "        self.linears = [Linear(i) for i in output_dims]\n",
    "        #print(self.linears)\n",
    "#       #we can also use the predefined tf.keras.layers.Dense; we can also specify activations\n",
    "        self.linears = [tf.keras.layers.Dense(i,activation='relu') for i in output_dims]\n",
    "    def call(self,x):\n",
    "        #print(\"x = \",x)\n",
    "        for l in self.linears[:-1]:\n",
    "            print(l)\n",
    "            x = tf.nn.relu(l(x))\n",
    "        return self.linears[-1](x)"
   ]
  },
  {
   "cell_type": "code",
   "execution_count": 13,
   "metadata": {
    "colab": {},
    "colab_type": "code",
    "id": "ZDMZqBvvKGcL",
    "outputId": "a0168728-86ac-4c8f-bc2d-7173af617ab9"
   },
   "outputs": [
    {
     "name": "stdout",
     "output_type": "stream",
     "text": [
      "<tensorflow.python.keras.layers.core.Dense object at 0x000001BF6AA266D8>\n",
      "<tensorflow.python.keras.layers.core.Dense object at 0x000001BF6AB6C630>\n"
     ]
    },
    {
     "data": {
      "text/plain": [
       "TensorShape([Dimension(64), Dimension(1)])"
      ]
     },
     "execution_count": 13,
     "metadata": {},
     "output_type": "execute_result"
    }
   ],
   "source": [
    "m = MLP([32,32,1])\n",
    "x = tf.random.normal((64,9))\n",
    "#print(x)\n",
    "m(x).shape"
   ]
  },
  {
   "cell_type": "code",
   "execution_count": 14,
   "metadata": {},
   "outputs": [
    {
     "name": "stdout",
     "output_type": "stream",
     "text": [
      "Model: \"mlp\"\n",
      "_________________________________________________________________\n",
      "Layer (type)                 Output Shape              Param #   \n",
      "=================================================================\n",
      "dense (Dense)                multiple                  320       \n",
      "_________________________________________________________________\n",
      "dense_1 (Dense)              multiple                  1056      \n",
      "_________________________________________________________________\n",
      "dense_2 (Dense)              multiple                  33        \n",
      "=================================================================\n",
      "Total params: 1,409\n",
      "Trainable params: 1,409\n",
      "Non-trainable params: 0\n",
      "_________________________________________________________________\n"
     ]
    }
   ],
   "source": [
    "#can only see summary after you called build() or passed something\n",
    "m.summary()"
   ]
  },
  {
   "cell_type": "markdown",
   "metadata": {
    "colab_type": "text",
    "id": "ov5WYnW7KGcO"
   },
   "source": [
    "#### Step 3.2: Quick and Dirty with `tf.keras.Sequential`"
   ]
  },
  {
   "cell_type": "markdown",
   "metadata": {
    "colab_type": "text",
    "id": "MX9xzUF0KGcR"
   },
   "source": [
    "`tf.keras.Sequential` will create a model but do not build it unless you specify the input shape."
   ]
  },
  {
   "cell_type": "code",
   "execution_count": 15,
   "metadata": {
    "colab": {},
    "colab_type": "code",
    "id": "QYpSpy6pKGcS",
    "outputId": "08d57b38-76c0-44de-cfc9-c7e957347d24"
   },
   "outputs": [
    {
     "ename": "ValueError",
     "evalue": "This model has not yet been built. Build the model first by calling `build()` or calling `fit()` with some data, or specify an `input_shape` argument in the first layer(s) for automatic build.",
     "output_type": "error",
     "traceback": [
      "\u001b[1;31m---------------------------------------------------------------------------\u001b[0m",
      "\u001b[1;31mValueError\u001b[0m                                Traceback (most recent call last)",
      "\u001b[1;32m<ipython-input-15-001bc5aa961f>\u001b[0m in \u001b[0;36m<module>\u001b[1;34m\u001b[0m\n\u001b[0;32m      4\u001b[0m     \u001b[0mm\u001b[0m\u001b[1;33m.\u001b[0m\u001b[0madd\u001b[0m\u001b[1;33m(\u001b[0m\u001b[0mtf\u001b[0m\u001b[1;33m.\u001b[0m\u001b[0mkeras\u001b[0m\u001b[1;33m.\u001b[0m\u001b[0mlayers\u001b[0m\u001b[1;33m.\u001b[0m\u001b[0mDense\u001b[0m\u001b[1;33m(\u001b[0m\u001b[0mi\u001b[0m\u001b[1;33m,\u001b[0m\u001b[0mactivation\u001b[0m\u001b[1;33m=\u001b[0m\u001b[1;34m'relu'\u001b[0m\u001b[1;33m)\u001b[0m\u001b[1;33m)\u001b[0m\u001b[1;33m\u001b[0m\u001b[1;33m\u001b[0m\u001b[0m\n\u001b[0;32m      5\u001b[0m \u001b[0mm\u001b[0m\u001b[1;33m.\u001b[0m\u001b[0madd\u001b[0m\u001b[1;33m(\u001b[0m\u001b[0mtf\u001b[0m\u001b[1;33m.\u001b[0m\u001b[0mkeras\u001b[0m\u001b[1;33m.\u001b[0m\u001b[0mlayers\u001b[0m\u001b[1;33m.\u001b[0m\u001b[0mDense\u001b[0m\u001b[1;33m(\u001b[0m\u001b[1;36m1\u001b[0m\u001b[1;33m)\u001b[0m\u001b[1;33m)\u001b[0m\u001b[1;33m\u001b[0m\u001b[1;33m\u001b[0m\u001b[0m\n\u001b[1;32m----> 6\u001b[1;33m \u001b[0mm\u001b[0m\u001b[1;33m.\u001b[0m\u001b[0msummary\u001b[0m\u001b[1;33m(\u001b[0m\u001b[1;33m)\u001b[0m\u001b[1;33m\u001b[0m\u001b[1;33m\u001b[0m\u001b[0m\n\u001b[0m",
      "\u001b[1;32mD:\\Program\\anconda\\lib\\site-packages\\tensorflow\\python\\keras\\engine\\network.py\u001b[0m in \u001b[0;36msummary\u001b[1;34m(self, line_length, positions, print_fn)\u001b[0m\n\u001b[0;32m   1502\u001b[0m     \"\"\"\n\u001b[0;32m   1503\u001b[0m     \u001b[1;32mif\u001b[0m \u001b[1;32mnot\u001b[0m \u001b[0mself\u001b[0m\u001b[1;33m.\u001b[0m\u001b[0mbuilt\u001b[0m\u001b[1;33m:\u001b[0m\u001b[1;33m\u001b[0m\u001b[1;33m\u001b[0m\u001b[0m\n\u001b[1;32m-> 1504\u001b[1;33m       raise ValueError('This model has not yet been built. '\n\u001b[0m\u001b[0;32m   1505\u001b[0m                        \u001b[1;34m'Build the model first by calling `build()` or calling '\u001b[0m\u001b[1;33m\u001b[0m\u001b[1;33m\u001b[0m\u001b[0m\n\u001b[0;32m   1506\u001b[0m                        \u001b[1;34m'`fit()` with some data, or specify '\u001b[0m\u001b[1;33m\u001b[0m\u001b[1;33m\u001b[0m\u001b[0m\n",
      "\u001b[1;31mValueError\u001b[0m: This model has not yet been built. Build the model first by calling `build()` or calling `fit()` with some data, or specify an `input_shape` argument in the first layer(s) for automatic build."
     ]
    }
   ],
   "source": [
    "#without input shape\n",
    "m = tf.keras.Sequential()\n",
    "for i in [32,32]:\n",
    "    m.add(tf.keras.layers.Dense(i,activation='relu'))\n",
    "m.add(tf.keras.layers.Dense(1))\n",
    "m.summary()"
   ]
  },
  {
   "cell_type": "code",
   "execution_count": 19,
   "metadata": {
    "colab": {},
    "colab_type": "code",
    "id": "-l2y9KPlKGcY",
    "outputId": "8899f7ef-af48-45bf-8ee1-e6543164ffcf"
   },
   "outputs": [
    {
     "name": "stdout",
     "output_type": "stream",
     "text": [
      "Model: \"sequential_1\"\n",
      "_________________________________________________________________\n",
      "Layer (type)                 Output Shape              Param #   \n",
      "=================================================================\n",
      "dense_6 (Dense)              (None, 32)                320       \n",
      "_________________________________________________________________\n",
      "dense_7 (Dense)              (None, 32)                1056      \n",
      "_________________________________________________________________\n",
      "dense_8 (Dense)              (None, 1)                 33        \n",
      "=================================================================\n",
      "Total params: 1,409\n",
      "Trainable params: 1,409\n",
      "Non-trainable params: 0\n",
      "_________________________________________________________________\n"
     ]
    }
   ],
   "source": [
    "#with input shape\n",
    "m = tf.keras.Sequential()\n",
    "m.add(tf.keras.layers.Dense(32,activation='relu',input_dim=9))\n",
    "m.add(tf.keras.layers.Dense(32,activation='relu'))\n",
    "m.add(tf.keras.layers.Dense(1))\n",
    "m.summary()"
   ]
  },
  {
   "cell_type": "markdown",
   "metadata": {},
   "source": [
    "#### Step 3.3: Functionally"
   ]
  },
  {
   "cell_type": "code",
   "execution_count": 20,
   "metadata": {},
   "outputs": [
    {
     "name": "stdout",
     "output_type": "stream",
     "text": [
      "Model: \"model\"\n",
      "_________________________________________________________________\n",
      "Layer (type)                 Output Shape              Param #   \n",
      "=================================================================\n",
      "input_1 (InputLayer)         [(None, 9)]               0         \n",
      "_________________________________________________________________\n",
      "dense_9 (Dense)              (None, 32)                320       \n",
      "_________________________________________________________________\n",
      "dense_10 (Dense)             (None, 32)                1056      \n",
      "_________________________________________________________________\n",
      "dense_11 (Dense)             (None, 1)                 33        \n",
      "=================================================================\n",
      "Total params: 1,409\n",
      "Trainable params: 1,409\n",
      "Non-trainable params: 0\n",
      "_________________________________________________________________\n"
     ]
    }
   ],
   "source": [
    "inputs = tf.keras.Input(shape=(9,))\n",
    "x = layers.Dense(32, activation='relu')(inputs)\n",
    "x = layers.Dense(32, activation='relu')(x)\n",
    "outputs = layers.Dense(1)(x)\n",
    "m = Model(inputs=inputs, outputs=outputs)\n",
    "m.summary()"
   ]
  },
  {
   "cell_type": "markdown",
   "metadata": {
    "colab_type": "text",
    "id": "RDlaR8HGKGcf"
   },
   "source": [
    "### Step 4: Define Loss"
   ]
  },
  {
   "cell_type": "markdown",
   "metadata": {
    "colab_type": "text",
    "id": "6PDNJsYBKGcg"
   },
   "source": [
    "We need to specify which loss function to optimize for. In our case, we use a simple mean squared error loss (MSE loss)."
   ]
  },
  {
   "cell_type": "code",
   "execution_count": 21,
   "metadata": {
    "colab": {},
    "colab_type": "code",
    "id": "lUc20G0-KGch",
    "outputId": "7e5d30b0-75c6-49bb-d36e-3055e5de1040"
   },
   "outputs": [
    {
     "name": "stdout",
     "output_type": "stream",
     "text": [
      "y: (10, 1), preds: (10, 1), MSE Loss: 0.5581936836242676\n",
      "MSE Loss by hand: 0.5581936836242676\n"
     ]
    }
   ],
   "source": [
    "loss_fn = tf.keras.losses.MeanSquaredError()\n",
    "y = tf.ones((10,1))\n",
    "preds = tf.random.uniform((10,1))\n",
    "print(f'y: {y.shape}, preds: {preds.shape}, MSE Loss: {loss_fn(y,preds)}')\n",
    "sess = tf.InteractiveSession()\n",
    "print(f'MSE Loss by hand: {((y.numpy()-preds.numpy())**2).mean()}')\n",
    "#print(f'MSE Loss by hand: {((y-preds)**2).numpy().mean(0)[0]}')"
   ]
  },
  {
   "cell_type": "markdown",
   "metadata": {
    "colab_type": "text",
    "id": "fXSkXbIyKGck"
   },
   "source": [
    "### Step 5: Define Optimizer"
   ]
  },
  {
   "cell_type": "markdown",
   "metadata": {
    "colab_type": "text",
    "id": "ghwAI7_YKGcl"
   },
   "source": [
    "Last step of preparation is to define which optimizer to apply the gradients."
   ]
  },
  {
   "cell_type": "code",
   "execution_count": 22,
   "metadata": {
    "colab": {},
    "colab_type": "code",
    "id": "KYIgRdC2KGcm"
   },
   "outputs": [],
   "source": [
    "optimizer = tf.keras.optimizers.Adam(learning_rate = 1e-3,\n",
    "                                    beta_1=0.9, beta_2=0.999)"
   ]
  },
  {
   "cell_type": "markdown",
   "metadata": {
    "colab_type": "text",
    "id": "IoxWuHWMKGcp"
   },
   "source": [
    "### Step 6: Training Loop"
   ]
  },
  {
   "cell_type": "markdown",
   "metadata": {
    "colab_type": "text",
    "id": "ncaQfxQBKGcq"
   },
   "source": [
    "We put what we have prepared so far together: datasets, architecture, loss function, and optimizer to train the model."
   ]
  },
  {
   "cell_type": "code",
   "execution_count": 23,
   "metadata": {
    "colab": {},
    "colab_type": "code",
    "id": "8z9-sdDeKGcr"
   },
   "outputs": [],
   "source": [
    "#datasets\n",
    "#shuffle with buffer equal to size of dataset\n",
    "train_ds = tf.data.Dataset.from_tensor_slices((train_x,train_y))\\\n",
    "  .shuffle(buffer_size=train_y.shape[0]).batch(64)\n",
    "#no shuffling for validation\n",
    "valid_ds = tf.data.Dataset.from_tensor_slices((train_x,train_y))\\\n",
    "  .batch(valid_y.shape[0])\n",
    "train_ds, valid_ds\n",
    "\n",
    "#architecture\n",
    "class MLP(Model):\n",
    "    def __init__(self,output_dims=[64,32,1]):\n",
    "        super(MLP,self).__init__()\n",
    "        #we can also use the predefined tf.keras.layers.Dense; we can also specify activations\n",
    "        self.linears = [layers.Dense(i,activation='relu') for i in output_dims]\n",
    "    def call(self,x):\n",
    "        for l in self.linears[:-1]: x = l(x)\n",
    "        return self.linears[-1](x)\n",
    "m = MLP([32,32,1])\n",
    "\n",
    "#loss fn\n",
    "loss_fn = tf.keras.losses.MeanSquaredError()\n",
    "\n",
    "#optimizer\n",
    "optimizer = tf.keras.optimizers.Adam(learning_rate = 2e-3,\n",
    "                                    beta_1=0.9, beta_2=0.999)"
   ]
  },
  {
   "cell_type": "markdown",
   "metadata": {
    "colab_type": "text",
    "id": "ygZFHjBVKGcu"
   },
   "source": [
    "As we train the model in Eager Mode, we use `tf.GradientTape()` to record the gradients and use our optimizer to apply them. Let's say we train for 10 epochs (10 rounds of all data)."
   ]
  },
  {
   "cell_type": "code",
   "execution_count": 24,
   "metadata": {
    "colab": {},
    "colab_type": "code",
    "id": "mhuX19P9KGcu",
    "outputId": "ce7fb859-8b2c-41bc-e818-899b817740e3"
   },
   "outputs": [
    {
     "name": "stdout",
     "output_type": "stream",
     "text": [
      "epoch 0 - Train Loss: 62669.19140625;    Valid Loss: 53845.43359375\n",
      "epoch 1 - Train Loss: 62669.19140625;    Valid Loss: 53845.43359375\n",
      "epoch 2 - Train Loss: 62669.19140625;    Valid Loss: 53845.43359375\n",
      "epoch 3 - Train Loss: 62669.19140625;    Valid Loss: 53845.43359375\n",
      "epoch 4 - Train Loss: 62669.19140625;    Valid Loss: 53845.43359375\n",
      "epoch 5 - Train Loss: 62669.19140625;    Valid Loss: 53845.43359375\n",
      "epoch 6 - Train Loss: 62669.19140625;    Valid Loss: 53845.43359375\n",
      "epoch 7 - Train Loss: 62669.19140625;    Valid Loss: 53845.43359375\n",
      "epoch 8 - Train Loss: 62669.19140625;    Valid Loss: 53845.43359375\n",
      "epoch 9 - Train Loss: 62669.19140625;    Valid Loss: 53845.43359375\n",
      "Done in 0:00:18.488117\n"
     ]
    }
   ],
   "source": [
    "from datetime import datetime\n",
    "start_time = datetime.now()\n",
    "\n",
    "#to log epoch-level train and validation losses\n",
    "epoch_train_losses = []\n",
    "epoch_valid_losses = []\n",
    "for e in range(10):\n",
    "    #training loop\n",
    "    for i,(x,y) in enumerate(train_ds):\n",
    "        epoch_train_loss = []\n",
    "        with tf.GradientTape() as tape:\n",
    "            preds = m(x) #prediction\n",
    "            train_loss = loss_fn(y,preds) #record loss\n",
    "            epoch_train_loss.append(train_loss)\n",
    "            #record gradients\n",
    "            gradients = tape.gradient(train_loss,m.trainable_weights)\n",
    "        #update \n",
    "        optimizer.apply_gradients(zip(gradients,m.trainable_weights))\n",
    "    epoch_train_losses.append(np.mean(epoch_train_loss))\n",
    "    \n",
    "    #validation loop\n",
    "    for i,(x,y) in enumerate(valid_ds):\n",
    "        epoch_valid_loss = []\n",
    "        preds = m(x) #prediction\n",
    "        valid_loss = loss_fn(y,preds) #record loss\n",
    "        epoch_valid_loss.append(valid_loss)\n",
    "        # do not record or apply gradients\n",
    "    epoch_valid_losses.append(np.mean(epoch_valid_loss))\n",
    "    \n",
    "    #log\n",
    "    print(f'epoch {e} - Train Loss: {np.mean(epoch_train_loss)};\\\n",
    "    Valid Loss: {np.mean(epoch_valid_loss)}')\n",
    "\n",
    "print(f'Done in {datetime.now()-start_time}')"
   ]
  },
  {
   "cell_type": "code",
   "execution_count": 25,
   "metadata": {
    "colab": {},
    "colab_type": "code",
    "id": "UdQ_fioRKGcx",
    "outputId": "23323062-3fea-4682-a70b-5b8c9313f47b"
   },
   "outputs": [
    {
     "data": {
      "text/plain": [
       "[<matplotlib.lines.Line2D at 0x1bf6bf9c6d8>]"
      ]
     },
     "execution_count": 25,
     "metadata": {},
     "output_type": "execute_result"
    },
    {
     "data": {
      "image/png": "[encoded data removed]",
      "text/plain": [
       "<Figure size 432x288 with 1 Axes>"
      ]
     },
     "metadata": {
      "needs_background": "light"
     },
     "output_type": "display_data"
    }
   ],
   "source": [
    "#plot losses by epoch\n",
    "plt.plot(epoch_train_losses)\n",
    "plt.plot(epoch_valid_losses)"
   ]
  },
  {
   "cell_type": "markdown",
   "metadata": {
    "colab_type": "text",
    "id": "-0IztwdK2f3F"
   },
   "source": [
    "### Step 7: Evaluate the Model"
   ]
  },
  {
   "cell_type": "markdown",
   "metadata": {
    "colab_type": "text",
    "id": "AKWstXXPzOVz"
   },
   "source": [
    "Is this a good model? How would you judge how large this error is?\n",
    "\n",
    "Mean Squared Error (MSE) can be hard to interpret, so we often look at Root Mean Squared Error (RMSE)\n",
    "instead.  A nice property of RMSE is that it can be interpreted on the same scale as the original targets.\n",
    "\n",
    "Let's compare the RMSE to the difference of the min and max of our targets:"
   ]
  },
  {
   "cell_type": "code",
   "execution_count": 26,
   "metadata": {
    "colab": {},
    "colab_type": "code",
    "id": "7UwqGbbxP53O",
    "outputId": "d0572e5d-044a-41f4-cddd-1b919d2089ce"
   },
   "outputs": [
    {
     "name": "stdout",
     "output_type": "stream",
     "text": [
      "Min. Median House Value: 14.999\n",
      "Max. Median House Value: 500.001\n",
      "Difference between Min. and Max.: 485.002\n",
      "Root Mean Squared Error: 232.046\n"
     ]
    }
   ],
   "source": [
    "root_mean_squared_error = np.sqrt(epoch_valid_losses[-1])\n",
    "\n",
    "min_house_value = cali_df[\"median_house_value\"].min()\n",
    "max_house_value = cali_df[\"median_house_value\"].max()\n",
    "min_max_difference = max_house_value - min_house_value\n",
    "\n",
    "print(\"Min. Median House Value: %0.3f\" % min_house_value)\n",
    "print(\"Max. Median House Value: %0.3f\" % max_house_value)\n",
    "print(\"Difference between Min. and Max.: %0.3f\" % min_max_difference)\n",
    "print(\"Root Mean Squared Error: %0.3f\" % root_mean_squared_error)"
   ]
  },
  {
   "cell_type": "markdown",
   "metadata": {
    "colab_type": "text",
    "id": "QU5sLyYTqzqL"
   },
   "source": [
    "#### Is There a Standard Heuristic for Model Tuning?\n",
    "\n",
    "This is a commonly asked question. The short answer is that the effects of different hyperparameters are data dependent. So there are no hard-and-fast rules; you'll need to test on your data.\n",
    "\n",
    "That said, here are a few rules of thumb that may help guide you:\n",
    "\n",
    " * Training error should steadily decrease, steeply at first, and should eventually plateau as training converges.\n",
    " * If the training has not converged, try running it for longer.\n",
    " * If the training error decreases too slowly, increasing the learning rate may help it decrease faster.\n",
    "   * But sometimes the exact opposite may happen if the learning rate is too high.\n",
    " * If the training error varies wildly, try decreasing the learning rate.\n",
    "   * Lower learning rate plus larger number of steps or larger batch size is often a good combination.\n",
    " * Very small batch sizes can also cause instability.  First try larger values like 100 or 1000, and decrease until you see degradation.\n",
    "\n",
    "Again, never go strictly by these rules of thumb, because the effects are data dependent.  Always experiment and verify."
   ]
  },
  {
   "cell_type": "markdown",
   "metadata": {
    "colab_type": "text",
    "id": "4vqb3_glKGc6"
   },
   "source": [
    "### Step 8: Convert to Static Graph"
   ]
  },
  {
   "cell_type": "markdown",
   "metadata": {
    "colab_type": "text",
    "id": "R8sNtSeKKGc8"
   },
   "source": [
    "Eager Mode is on by default for Tensorflow 2.0 but we can also convert our models to static graph to enjoy the performance edge it offers after we completed the debugging in the more friendly Eager Mode by using the `@tf.function` decorator. This shrinks our time to run 10 epochs from 12 to 2 seconds!"
   ]
  },
  {
   "cell_type": "code",
   "execution_count": 61,
   "metadata": {
    "colab": {},
    "colab_type": "code",
    "id": "h1chYBMDKGc9"
   },
   "outputs": [],
   "source": [
    "#datasets\n",
    "#shuffle with buffer equal to size of dataset\n",
    "train_ds = tf.data.Dataset.from_tensor_slices((train_x,train_y))\\\n",
    "  .shuffle(buffer_size=train_y.shape[0]).batch(64)\n",
    "#no shuffling for validation\n",
    "valid_ds = tf.data.Dataset.from_tensor_slices((train_x,train_y))\\\n",
    "  .batch(valid_y.shape[0])\n",
    "\n",
    "#architecture\n",
    "class MLP(Model):\n",
    "    def __init__(self,output_dims=[64,32,1]):\n",
    "        super(MLP,self).__init__()\n",
    "        #we can also use the predefined tf.keras.layers.Dense; we can also specify activations\n",
    "        self.linears = [layers.Dense(i,activation='relu') for i in output_dims]\n",
    "    def call(self,x):\n",
    "        for l in self.linears[:-1]: x = l(x)\n",
    "        return self.linears[-1](x)\n",
    "m = MLP([32,32,1])\n",
    "\n",
    "#loss fn\n",
    "loss_fn = tf.keras.losses.MeanSquaredError()\n",
    "\n",
    "#optimizer\n",
    "optimizer = tf.keras.optimizers.Adam(learning_rate = 2e-3,\n",
    "                                    beta_1=0.9, beta_2=0.999)"
   ]
  },
  {
   "cell_type": "code",
   "execution_count": 62,
   "metadata": {
    "colab": {},
    "colab_type": "code",
    "id": "HVGsICmRKGdA"
   },
   "outputs": [],
   "source": [
    "@tf.function\n",
    "def train_batch(x,y):\n",
    "    with tf.GradientTape() as tape:\n",
    "        preds = m(x) #prediction\n",
    "        train_loss = loss_fn(y,preds) #record loss\n",
    "        gradients = tape.gradient(train_loss,m.trainable_weights)\n",
    "    optimizer.apply_gradients(zip(gradients,m.trainable_weights))\n",
    "    return train_loss\n",
    "\n",
    "@tf.function\n",
    "def valid_batch(x,y):\n",
    "    preds = m(x) #prediction\n",
    "    valid_loss = loss_fn(y,preds) #record loss\n",
    "    return valid_loss"
   ]
  },
  {
   "cell_type": "code",
   "execution_count": 63,
   "metadata": {
    "colab": {},
    "colab_type": "code",
    "id": "OkXx6XpcKGdD",
    "outputId": "b4599706-182c-4782-f700-7f8263a719cc",
    "scrolled": true
   },
   "outputs": [
    {
     "name": "stdout",
     "output_type": "stream",
     "text": [
      "WARNING:tensorflow:Entity <function train_batch at 0x000001BF6D24B6A8> could not be transformed and will be executed as-is. Please report this to the AutgoGraph team. When filing the bug, set the verbosity to 10 (on Linux, `export AUTOGRAPH_VERBOSITY=10`) and attach the full output. Cause: converting <function train_batch at 0x000001BF6D24B6A8>: AssertionError: Bad argument number for Name: 3, expecting 4\n",
      "WARNING: Entity <function train_batch at 0x000001BF6D24B6A8> could not be transformed and will be executed as-is. Please report this to the AutgoGraph team. When filing the bug, set the verbosity to 10 (on Linux, `export AUTOGRAPH_VERBOSITY=10`) and attach the full output. Cause: converting <function train_batch at 0x000001BF6D24B6A8>: AssertionError: Bad argument number for Name: 3, expecting 4\n",
      "WARNING:tensorflow:Entity <bound method MLP.call of <__main__.MLP object at 0x000001BF6D250390>> could not be transformed and will be executed as-is. Please report this to the AutgoGraph team. When filing the bug, set the verbosity to 10 (on Linux, `export AUTOGRAPH_VERBOSITY=10`) and attach the full output. Cause: converting <bound method MLP.call of <__main__.MLP object at 0x000001BF6D250390>>: AttributeError: module 'gast' has no attribute 'Num'\n",
      "WARNING: Entity <bound method MLP.call of <__main__.MLP object at 0x000001BF6D250390>> could not be transformed and will be executed as-is. Please report this to the AutgoGraph team. When filing the bug, set the verbosity to 10 (on Linux, `export AUTOGRAPH_VERBOSITY=10`) and attach the full output. Cause: converting <bound method MLP.call of <__main__.MLP object at 0x000001BF6D250390>>: AttributeError: module 'gast' has no attribute 'Num'\n",
      "WARNING:tensorflow:Entity <function Function._initialize_uninitialized_variables.<locals>.initialize_variables at 0x000001BF6D74B268> could not be transformed and will be executed as-is. Please report this to the AutgoGraph team. When filing the bug, set the verbosity to 10 (on Linux, `export AUTOGRAPH_VERBOSITY=10`) and attach the full output. Cause: converting <function Function._initialize_uninitialized_variables.<locals>.initialize_variables at 0x000001BF6D74B268>: AttributeError: module 'gast' has no attribute 'Num'\n",
      "WARNING: Entity <function Function._initialize_uninitialized_variables.<locals>.initialize_variables at 0x000001BF6D74B268> could not be transformed and will be executed as-is. Please report this to the AutgoGraph team. When filing the bug, set the verbosity to 10 (on Linux, `export AUTOGRAPH_VERBOSITY=10`) and attach the full output. Cause: converting <function Function._initialize_uninitialized_variables.<locals>.initialize_variables at 0x000001BF6D74B268>: AttributeError: module 'gast' has no attribute 'Num'\n",
      "WARNING:tensorflow:Entity <function train_batch at 0x000001BF6D24B6A8> could not be transformed and will be executed as-is. Please report this to the AutgoGraph team. When filing the bug, set the verbosity to 10 (on Linux, `export AUTOGRAPH_VERBOSITY=10`) and attach the full output. Cause: converting <function train_batch at 0x000001BF6D24B6A8>: AssertionError: Bad argument number for Name: 3, expecting 4\n",
      "WARNING: Entity <function train_batch at 0x000001BF6D24B6A8> could not be transformed and will be executed as-is. Please report this to the AutgoGraph team. When filing the bug, set the verbosity to 10 (on Linux, `export AUTOGRAPH_VERBOSITY=10`) and attach the full output. Cause: converting <function train_batch at 0x000001BF6D24B6A8>: AssertionError: Bad argument number for Name: 3, expecting 4\n",
      "WARNING:tensorflow:Entity <bound method MLP.call of <__main__.MLP object at 0x000001BF6D250390>> could not be transformed and will be executed as-is. Please report this to the AutgoGraph team. When filing the bug, set the verbosity to 10 (on Linux, `export AUTOGRAPH_VERBOSITY=10`) and attach the full output. Cause: converting <bound method MLP.call of <__main__.MLP object at 0x000001BF6D250390>>: AttributeError: module 'gast' has no attribute 'Num'\n",
      "WARNING: Entity <bound method MLP.call of <__main__.MLP object at 0x000001BF6D250390>> could not be transformed and will be executed as-is. Please report this to the AutgoGraph team. When filing the bug, set the verbosity to 10 (on Linux, `export AUTOGRAPH_VERBOSITY=10`) and attach the full output. Cause: converting <bound method MLP.call of <__main__.MLP object at 0x000001BF6D250390>>: AttributeError: module 'gast' has no attribute 'Num'\n",
      "WARNING:tensorflow:Entity <function train_batch at 0x000001BF6D24B6A8> could not be transformed and will be executed as-is. Please report this to the AutgoGraph team. When filing the bug, set the verbosity to 10 (on Linux, `export AUTOGRAPH_VERBOSITY=10`) and attach the full output. Cause: converting <function train_batch at 0x000001BF6D24B6A8>: AssertionError: Bad argument number for Name: 3, expecting 4\n",
      "WARNING: Entity <function train_batch at 0x000001BF6D24B6A8> could not be transformed and will be executed as-is. Please report this to the AutgoGraph team. When filing the bug, set the verbosity to 10 (on Linux, `export AUTOGRAPH_VERBOSITY=10`) and attach the full output. Cause: converting <function train_batch at 0x000001BF6D24B6A8>: AssertionError: Bad argument number for Name: 3, expecting 4\n",
      "WARNING:tensorflow:Entity <bound method MLP.call of <__main__.MLP object at 0x000001BF6D250390>> could not be transformed and will be executed as-is. Please report this to the AutgoGraph team. When filing the bug, set the verbosity to 10 (on Linux, `export AUTOGRAPH_VERBOSITY=10`) and attach the full output. Cause: converting <bound method MLP.call of <__main__.MLP object at 0x000001BF6D250390>>: AttributeError: module 'gast' has no attribute 'Num'\n",
      "WARNING: Entity <bound method MLP.call of <__main__.MLP object at 0x000001BF6D250390>> could not be transformed and will be executed as-is. Please report this to the AutgoGraph team. When filing the bug, set the verbosity to 10 (on Linux, `export AUTOGRAPH_VERBOSITY=10`) and attach the full output. Cause: converting <bound method MLP.call of <__main__.MLP object at 0x000001BF6D250390>>: AttributeError: module 'gast' has no attribute 'Num'\n",
      "WARNING:tensorflow:Entity <function valid_batch at 0x000001BF6D24B730> could not be transformed and will be executed as-is. Please report this to the AutgoGraph team. When filing the bug, set the verbosity to 10 (on Linux, `export AUTOGRAPH_VERBOSITY=10`) and attach the full output. Cause: converting <function valid_batch at 0x000001BF6D24B730>: AssertionError: Bad argument number for Name: 3, expecting 4\n",
      "WARNING: Entity <function valid_batch at 0x000001BF6D24B730> could not be transformed and will be executed as-is. Please report this to the AutgoGraph team. When filing the bug, set the verbosity to 10 (on Linux, `export AUTOGRAPH_VERBOSITY=10`) and attach the full output. Cause: converting <function valid_batch at 0x000001BF6D24B730>: AssertionError: Bad argument number for Name: 3, expecting 4\n",
      "WARNING:tensorflow:Entity <bound method MLP.call of <__main__.MLP object at 0x000001BF6D250390>> could not be transformed and will be executed as-is. Please report this to the AutgoGraph team. When filing the bug, set the verbosity to 10 (on Linux, `export AUTOGRAPH_VERBOSITY=10`) and attach the full output. Cause: converting <bound method MLP.call of <__main__.MLP object at 0x000001BF6D250390>>: AttributeError: module 'gast' has no attribute 'Num'\n",
      "WARNING: Entity <bound method MLP.call of <__main__.MLP object at 0x000001BF6D250390>> could not be transformed and will be executed as-is. Please report this to the AutgoGraph team. When filing the bug, set the verbosity to 10 (on Linux, `export AUTOGRAPH_VERBOSITY=10`) and attach the full output. Cause: converting <bound method MLP.call of <__main__.MLP object at 0x000001BF6D250390>>: AttributeError: module 'gast' has no attribute 'Num'\n",
      "epoch 0 - Train Loss: 10508.275390625;          Valid Loss: 10913.00390625\n",
      "epoch 1 - Train Loss: 6264.015625;          Valid Loss: 6396.9130859375\n",
      "epoch 2 - Train Loss: 4866.18994140625;          Valid Loss: 4957.501953125\n",
      "epoch 3 - Train Loss: 4405.7265625;          Valid Loss: 4457.57177734375\n",
      "epoch 4 - Train Loss: 4291.26611328125;          Valid Loss: 4272.45361328125\n"
     ]
    },
    {
     "name": "stdout",
     "output_type": "stream",
     "text": [
      "epoch 5 - Train Loss: 4242.2001953125;          Valid Loss: 4181.041015625\n",
      "epoch 6 - Train Loss: 4235.90185546875;          Valid Loss: 4115.9208984375\n",
      "epoch 7 - Train Loss: 4220.62890625;          Valid Loss: 4055.507568359375\n",
      "epoch 8 - Train Loss: 4216.525390625;          Valid Loss: 3998.440673828125\n",
      "epoch 9 - Train Loss: 4211.4091796875;          Valid Loss: 3947.78759765625\n",
      "Done in 0:00:02.285801\n"
     ]
    }
   ],
   "source": [
    "from datetime import datetime\n",
    "start_time = datetime.now()\n",
    "\n",
    "#to log epoch-level train and validation losses\n",
    "epoch_train_losses = []\n",
    "epoch_valid_losses = []\n",
    "for e in range(10):\n",
    "    #training loop\n",
    "    for i,(x,y) in enumerate(train_ds):\n",
    "        epoch_train_loss = []\n",
    "        train_loss = train_batch(x,y)\n",
    "        epoch_train_loss.append(train_loss)\n",
    "    epoch_train_losses.append(np.mean(epoch_train_loss))\n",
    "    \n",
    "    #validation loop\n",
    "    for i,(x,y) in enumerate(valid_ds):\n",
    "        epoch_valid_loss = []\n",
    "        valid_loss = valid_batch(x,y)\n",
    "        epoch_valid_loss.append(valid_loss)\n",
    "        # do not record or apply gradients\n",
    "    epoch_valid_losses.append(np.mean(epoch_valid_loss))\n",
    "    \n",
    "    #log\n",
    "    print(f'epoch {e} - Train Loss: {np.mean(epoch_train_loss)};\\\n",
    "          Valid Loss: {np.mean(epoch_valid_loss)}')\n",
    "\n",
    "print(f'Done in {datetime.now()-start_time}')"
   ]
  },
  {
   "cell_type": "code",
   "execution_count": 30,
   "metadata": {
    "colab": {},
    "colab_type": "code",
    "id": "uGWLyJCGKGdI",
    "outputId": "7c12af2c-1540-485a-a88b-22670643a54d"
   },
   "outputs": [
    {
     "data": {
      "text/plain": [
       "[<matplotlib.lines.Line2D at 0x1bf6d065da0>]"
      ]
     },
     "execution_count": 30,
     "metadata": {},
     "output_type": "execute_result"
    },
    {
     "data": {
      "image/png": "[encoded data removed]",
      "text/plain": [
       "<Figure size 432x288 with 1 Axes>"
      ]
     },
     "metadata": {
      "needs_background": "light"
     },
     "output_type": "display_data"
    }
   ],
   "source": [
    "#plot losses by epoch\n",
    "plt.plot(epoch_train_losses)\n",
    "plt.plot(epoch_valid_losses)"
   ]
  },
  {
   "cell_type": "markdown",
   "metadata": {
    "colab_type": "text",
    "id": "4vqb3_glKGc6"
   },
   "source": [
    "### Homework : change to mish activation function"
   ]
  },
  {
   "cell_type": "code",
   "execution_count": 79,
   "metadata": {},
   "outputs": [],
   "source": [
    "import tensorflow.compat.v2.math as F\n",
    "#import torch\n",
    "#import torch.nn.functional as F\n",
    "# Now change to mish activation function\n",
    "train_ds = tf.data.Dataset.from_tensor_slices((train_x,train_y))\\\n",
    "  .shuffle(buffer_size=train_y.shape[0]).batch(64)\n",
    "#no shuffling for validation\n",
    "valid_ds = tf.data.Dataset.from_tensor_slices((train_x,train_y))\\\n",
    "  .batch(valid_y.shape[0])\n",
    "\n",
    "#architecture\n",
    "class Mish(Model):\n",
    "    def __init__(self,output_dims=[64,32,1]):\n",
    "        super(Mish,self).__init__()\n",
    "        # use Activation = None and implement it by self\n",
    "        self.linears = [layers.Dense(i,activation=None) for i in output_dims]\n",
    "        \n",
    "    def call(self,x):\n",
    "        for l in self.linears[:-1]: \n",
    "            # implement activation function\n",
    "            x = l(x)\n",
    "            # every x will be in activation before go to the next step\n",
    "            x = x*tf.math.tanh(F.softplus(x))\n",
    "            #print(\"x = \",x)\n",
    "            #x = x * (torch.tanh(F.softplus(x)))\n",
    "        #print(\"answer = \",self.linears[-1](x).eval())\n",
    "        return self.linears[-1](x)\n",
    "    \n",
    "    \n",
    "    \n",
    "m = Mish([32,32,1])\n",
    "#loss fn\n",
    "loss_fn = tf.keras.losses.MeanSquaredError()\n",
    "#optimizer\n",
    "optimizer = tf.keras.optimizers.Adam(learning_rate = 2e-3,\n",
    "                                    beta_1=0.9, beta_2=0.999)"
   ]
  },
  {
   "cell_type": "code",
   "execution_count": 80,
   "metadata": {},
   "outputs": [],
   "source": [
    "@tf.function\n",
    "def train_batch(x,y):\n",
    "    with tf.GradientTape() as tape:\n",
    "        preds = m(x) #prediction\n",
    "        train_loss = loss_fn(y,preds) #record loss\n",
    "        gradients = tape.gradient(train_loss,m.trainable_weights)\n",
    "    optimizer.apply_gradients(zip(gradients,m.trainable_weights))\n",
    "    return train_loss\n",
    "\n",
    "@tf.function\n",
    "def valid_batch(x,y):\n",
    "    preds = m(x) #prediction\n",
    "    valid_loss = loss_fn(y,preds) #record loss\n",
    "    return valid_loss"
   ]
  },
  {
   "cell_type": "code",
   "execution_count": 81,
   "metadata": {},
   "outputs": [
    {
     "name": "stdout",
     "output_type": "stream",
     "text": [
      "WARNING:tensorflow:Entity <function train_batch at 0x000001BF6D74B378> could not be transformed and will be executed as-is. Please report this to the AutgoGraph team. When filing the bug, set the verbosity to 10 (on Linux, `export AUTOGRAPH_VERBOSITY=10`) and attach the full output. Cause: converting <function train_batch at 0x000001BF6D74B378>: AssertionError: Bad argument number for Name: 3, expecting 4\n",
      "WARNING: Entity <function train_batch at 0x000001BF6D74B378> could not be transformed and will be executed as-is. Please report this to the AutgoGraph team. When filing the bug, set the verbosity to 10 (on Linux, `export AUTOGRAPH_VERBOSITY=10`) and attach the full output. Cause: converting <function train_batch at 0x000001BF6D74B378>: AssertionError: Bad argument number for Name: 3, expecting 4\n",
      "WARNING:tensorflow:Entity <bound method Mish.call of <__main__.Mish object at 0x000001BF6E910860>> could not be transformed and will be executed as-is. Please report this to the AutgoGraph team. When filing the bug, set the verbosity to 10 (on Linux, `export AUTOGRAPH_VERBOSITY=10`) and attach the full output. Cause: converting <bound method Mish.call of <__main__.Mish object at 0x000001BF6E910860>>: AttributeError: module 'gast' has no attribute 'Num'\n",
      "WARNING: Entity <bound method Mish.call of <__main__.Mish object at 0x000001BF6E910860>> could not be transformed and will be executed as-is. Please report this to the AutgoGraph team. When filing the bug, set the verbosity to 10 (on Linux, `export AUTOGRAPH_VERBOSITY=10`) and attach the full output. Cause: converting <bound method Mish.call of <__main__.Mish object at 0x000001BF6E910860>>: AttributeError: module 'gast' has no attribute 'Num'\n",
      "WARNING:tensorflow:Entity <function Function._initialize_uninitialized_variables.<locals>.initialize_variables at 0x000001BF6D26E488> could not be transformed and will be executed as-is. Please report this to the AutgoGraph team. When filing the bug, set the verbosity to 10 (on Linux, `export AUTOGRAPH_VERBOSITY=10`) and attach the full output. Cause: converting <function Function._initialize_uninitialized_variables.<locals>.initialize_variables at 0x000001BF6D26E488>: AttributeError: module 'gast' has no attribute 'Num'\n",
      "WARNING: Entity <function Function._initialize_uninitialized_variables.<locals>.initialize_variables at 0x000001BF6D26E488> could not be transformed and will be executed as-is. Please report this to the AutgoGraph team. When filing the bug, set the verbosity to 10 (on Linux, `export AUTOGRAPH_VERBOSITY=10`) and attach the full output. Cause: converting <function Function._initialize_uninitialized_variables.<locals>.initialize_variables at 0x000001BF6D26E488>: AttributeError: module 'gast' has no attribute 'Num'\n",
      "WARNING:tensorflow:Entity <function train_batch at 0x000001BF6D74B378> could not be transformed and will be executed as-is. Please report this to the AutgoGraph team. When filing the bug, set the verbosity to 10 (on Linux, `export AUTOGRAPH_VERBOSITY=10`) and attach the full output. Cause: converting <function train_batch at 0x000001BF6D74B378>: AssertionError: Bad argument number for Name: 3, expecting 4\n",
      "WARNING: Entity <function train_batch at 0x000001BF6D74B378> could not be transformed and will be executed as-is. Please report this to the AutgoGraph team. When filing the bug, set the verbosity to 10 (on Linux, `export AUTOGRAPH_VERBOSITY=10`) and attach the full output. Cause: converting <function train_batch at 0x000001BF6D74B378>: AssertionError: Bad argument number for Name: 3, expecting 4\n",
      "WARNING:tensorflow:Entity <bound method Mish.call of <__main__.Mish object at 0x000001BF6E910860>> could not be transformed and will be executed as-is. Please report this to the AutgoGraph team. When filing the bug, set the verbosity to 10 (on Linux, `export AUTOGRAPH_VERBOSITY=10`) and attach the full output. Cause: converting <bound method Mish.call of <__main__.Mish object at 0x000001BF6E910860>>: AttributeError: module 'gast' has no attribute 'Num'\n",
      "WARNING: Entity <bound method Mish.call of <__main__.Mish object at 0x000001BF6E910860>> could not be transformed and will be executed as-is. Please report this to the AutgoGraph team. When filing the bug, set the verbosity to 10 (on Linux, `export AUTOGRAPH_VERBOSITY=10`) and attach the full output. Cause: converting <bound method Mish.call of <__main__.Mish object at 0x000001BF6E910860>>: AttributeError: module 'gast' has no attribute 'Num'\n",
      "WARNING:tensorflow:Entity <function train_batch at 0x000001BF6D74B378> could not be transformed and will be executed as-is. Please report this to the AutgoGraph team. When filing the bug, set the verbosity to 10 (on Linux, `export AUTOGRAPH_VERBOSITY=10`) and attach the full output. Cause: converting <function train_batch at 0x000001BF6D74B378>: AssertionError: Bad argument number for Name: 3, expecting 4\n",
      "WARNING: Entity <function train_batch at 0x000001BF6D74B378> could not be transformed and will be executed as-is. Please report this to the AutgoGraph team. When filing the bug, set the verbosity to 10 (on Linux, `export AUTOGRAPH_VERBOSITY=10`) and attach the full output. Cause: converting <function train_batch at 0x000001BF6D74B378>: AssertionError: Bad argument number for Name: 3, expecting 4\n",
      "WARNING:tensorflow:Entity <bound method Mish.call of <__main__.Mish object at 0x000001BF6E910860>> could not be transformed and will be executed as-is. Please report this to the AutgoGraph team. When filing the bug, set the verbosity to 10 (on Linux, `export AUTOGRAPH_VERBOSITY=10`) and attach the full output. Cause: converting <bound method Mish.call of <__main__.Mish object at 0x000001BF6E910860>>: AttributeError: module 'gast' has no attribute 'Num'\n",
      "WARNING: Entity <bound method Mish.call of <__main__.Mish object at 0x000001BF6E910860>> could not be transformed and will be executed as-is. Please report this to the AutgoGraph team. When filing the bug, set the verbosity to 10 (on Linux, `export AUTOGRAPH_VERBOSITY=10`) and attach the full output. Cause: converting <bound method Mish.call of <__main__.Mish object at 0x000001BF6E910860>>: AttributeError: module 'gast' has no attribute 'Num'\n",
      "WARNING:tensorflow:Entity <function valid_batch at 0x000001BF6AA252F0> could not be transformed and will be executed as-is. Please report this to the AutgoGraph team. When filing the bug, set the verbosity to 10 (on Linux, `export AUTOGRAPH_VERBOSITY=10`) and attach the full output. Cause: converting <function valid_batch at 0x000001BF6AA252F0>: AssertionError: Bad argument number for Name: 3, expecting 4\n",
      "WARNING: Entity <function valid_batch at 0x000001BF6AA252F0> could not be transformed and will be executed as-is. Please report this to the AutgoGraph team. When filing the bug, set the verbosity to 10 (on Linux, `export AUTOGRAPH_VERBOSITY=10`) and attach the full output. Cause: converting <function valid_batch at 0x000001BF6AA252F0>: AssertionError: Bad argument number for Name: 3, expecting 4\n",
      "WARNING:tensorflow:Entity <bound method Mish.call of <__main__.Mish object at 0x000001BF6E910860>> could not be transformed and will be executed as-is. Please report this to the AutgoGraph team. When filing the bug, set the verbosity to 10 (on Linux, `export AUTOGRAPH_VERBOSITY=10`) and attach the full output. Cause: converting <bound method Mish.call of <__main__.Mish object at 0x000001BF6E910860>>: AttributeError: module 'gast' has no attribute 'Num'\n",
      "WARNING: Entity <bound method Mish.call of <__main__.Mish object at 0x000001BF6E910860>> could not be transformed and will be executed as-is. Please report this to the AutgoGraph team. When filing the bug, set the verbosity to 10 (on Linux, `export AUTOGRAPH_VERBOSITY=10`) and attach the full output. Cause: converting <bound method Mish.call of <__main__.Mish object at 0x000001BF6E910860>>: AttributeError: module 'gast' has no attribute 'Num'\n",
      "epoch 0 - Train Loss: 7716.73828125;          Valid Loss: 11426.4072265625\n",
      "epoch 1 - Train Loss: 5143.63671875;          Valid Loss: 6133.7392578125\n",
      "epoch 2 - Train Loss: 4207.16064453125;          Valid Loss: 4867.4091796875\n",
      "epoch 3 - Train Loss: 3813.5634765625;          Valid Loss: 4379.6611328125\n"
     ]
    },
    {
     "name": "stdout",
     "output_type": "stream",
     "text": [
      "epoch 4 - Train Loss: 3601.888671875;          Valid Loss: 4163.35009765625\n",
      "epoch 5 - Train Loss: 3478.790283203125;          Valid Loss: 4028.227294921875\n",
      "epoch 6 - Train Loss: 3407.04345703125;          Valid Loss: 3927.816650390625\n",
      "epoch 7 - Train Loss: 3363.2216796875;          Valid Loss: 3843.898193359375\n",
      "epoch 8 - Train Loss: 3330.62255859375;          Valid Loss: 3775.611083984375\n",
      "epoch 9 - Train Loss: 3301.612548828125;          Valid Loss: 3718.466796875\n",
      "Done in 0:00:03.061004\n"
     ]
    }
   ],
   "source": [
    "from datetime import datetime\n",
    "start_time = datetime.now()\n",
    "\n",
    "#to log epoch-level train and validation losses\n",
    "epoch_train_losses = []\n",
    "epoch_valid_losses = []\n",
    "for e in range(10):\n",
    "    #training loop\n",
    "    for i,(x,y) in enumerate(train_ds):\n",
    "        epoch_train_loss = []\n",
    "        train_loss = train_batch(x,y)\n",
    "        epoch_train_loss.append(train_loss)\n",
    "    epoch_train_losses.append(np.mean(epoch_train_loss))\n",
    "    \n",
    "    #validation loop\n",
    "    for i,(x,y) in enumerate(valid_ds):\n",
    "        epoch_valid_loss = []\n",
    "        valid_loss = valid_batch(x,y)\n",
    "        epoch_valid_loss.append(valid_loss)\n",
    "        # do not record or apply gradients\n",
    "    epoch_valid_losses.append(np.mean(epoch_valid_loss))\n",
    "    \n",
    "    #log\n",
    "    print(f'epoch {e} - Train Loss: {np.mean(epoch_train_loss)};\\\n",
    "          Valid Loss: {np.mean(epoch_valid_loss)}')\n",
    "\n",
    "print(f'Done in {datetime.now()-start_time}')"
   ]
  },
  {
   "cell_type": "code",
   "execution_count": 82,
   "metadata": {},
   "outputs": [
    {
     "data": {
      "text/plain": [
       "[<matplotlib.lines.Line2D at 0x1bf6e8bb160>]"
      ]
     },
     "execution_count": 82,
     "metadata": {},
     "output_type": "execute_result"
    },
    {
     "data": {
      "image/png": "[encoded data removed]",
      "text/plain": [
       "<Figure size 432x288 with 1 Axes>"
      ]
     },
     "metadata": {
      "needs_background": "light"
     },
     "output_type": "display_data"
    }
   ],
   "source": [
    "#plot losses by epoch\n",
    "plt.plot(epoch_train_losses)\n",
    "plt.plot(epoch_valid_losses)"
   ]
  },
  {
   "cell_type": "code",
   "execution_count": null,
   "metadata": {},
   "outputs": [],
   "source": []
  }
 ],
 "metadata": {
  "accelerator": "TPU",
  "colab": {
   "collapsed_sections": [
    "JndnmDMp66FL",
    "ci1ISxxrZ7v0"
   ],
   "name": "first_steps_with_tensor_flow2.ipynb",
   "provenance": [],
   "version": "0.3.2"
  },
  "kernelspec": {
   "display_name": "Python 3",
   "language": "python",
   "name": "python3"
  },
  "language_info": {
   "codemirror_mode": {
    "name": "ipython",
    "version": 3
   },
   "file_extension": ".py",
   "mimetype": "text/x-python",
   "name": "python",
   "nbconvert_exporter": "python",
   "pygments_lexer": "ipython3",
   "version": "3.7.3"
  }
 },
 "nbformat": 4,
 "nbformat_minor": 2
}
